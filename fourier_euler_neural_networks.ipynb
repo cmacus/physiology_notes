{
 "cells": [
  {
   "cell_type": "markdown",
   "metadata": {},
   "source": [
    "# ফুরিয়ার, অয়লার, নিউরাল নেটওয়ার্ক, 'বিচার' প্রভৃতি\n",
    "\n",
    "আমি উন্নত প্রাণী (অন্ততঃ আমার নিজের মতে তো বটেই) । তাই আমি যেকোন সমস্যার সমাধান করতে নিজের 'বুদ্ধির' উপর  (reason) ওপর নির্ভর করি  । এটাই সমস্যা সমাধানের সেরা উপায় কিনা তা নিয়ে নানা আলোচনা হয়েছে (দ্রষ্টব্য কান্টের Critique of pure reason) । এর প্রধান বিরোধীগোষ্ঠী বলেন,  বিচার নয়, 'অভিজ্ঞতা' (empiricism) হল যেকোন সমস্যার সমাধান সূত্র ।\n",
    "\n",
    "উদাহরণ এই হাতে লেখা সংখ্যাটা হল ইংরেজির আট । এটা চিনতে গেলে নিশ্চয়ই ভাবব - যে উপরে একটা গোল, নিয়ে আরেকটা, দুটো মোটামুটি একরকম, তাই এটা হল আট । মেশিনকে শেখাতে হলে এরকমই শেখাব, যে যদি সাদা দাগগুলো মোটামুটি দুটো গোল আকার তৈরি করে, তাহলে এটা আট। \n",
    "\n",
    "![](eight.png)\n",
    "\n",
    "আবার, এটাও আট । যদিও এটা আগেরটার চেয়ে অনেকটাই আলাদা । এবং মেশিন এটাকে কিছুতেই 'দুটো মোটামুটি সমান আকারে গোল্লা একটা আরেকটার ওপর' বলে মানতে চাইবেনা । \n",
    "\n",
    "![](eight_2.png)\n",
    "\n",
    "তাহলে মেশিনকে কি শেখাব? এটা আটের মত? পৌনে আট ? সমস্যাটার স্বরূপ তখন বোঝা যায়, যখন ভাবি আমি নিজে কিভাবে 'আট' চিনেছিলাম । আমি 'আট' চিনেছি বহুবার বহুরকম আট দেখে, ব্যাঁকা আট, ট্যাঁরা আট, বেঁটে আট, কুনো আট, ব্ল্যাকবোর্ডে স্যরের লেখা আট, লাস্ট বেঞ্চে খোদাই করা আট । অটোর পিছনে নাম্বারপ্লেটের আট । অর্থাৎ আটের 'আটত্ব' শুধুমাত্র দুটো গোল্লাতে নয় ।\n",
    "\n",
    "অথচ চোখের সামনেই দেখতে পাচ্ছি আট মানে দুটো গোল ছাড়া কিছু নয় । তাহলে 'অভিজ্ঞতা' কি একটা গণিতব্য (computable) ব্যাপার নাকি আমার 'আট' চেনার ক্ষমতা ঈশ্বরদত্ত ! যদি অভিজ্ঞতাকে গণিতব্য না মানি, তাহলে অতিপ্রাকৃতয় বিশ্বাস করতে হয় । এবং সে বিশ্বাস বহুদিন কায়েম ছিল । 'ডাক্তারবাবু পেশেন্টের হাঁচি শুনেই গলস্টোন ধরে ফেললেন' এজাতীয় ঘটনা প্রচুর । হাঁচি এবং গলস্টোনের মধ্য কোন কার্যকারণ  (causal) সম্পর্ক নেই । ডাক্তারবাবুর অভিজ্ঞতা থেকে তিনি রোগ ধরেছেন । ভাল কথা । আমার মাসি বলেন হাঁচলে বাড়ি থেকে বেরোতে নেই । ডাক্তারবাবুর কথা মেনে নিলে আমার মাসি কি দোষ করল?\n",
    "\n",
    "এজাতীয় সমস্যা নিয়ে প্রচুর চিন্তানায়ক তাদের মাথা চুলকিয়েছেন । গত পাঁচ ছয় বছরে একটা হাল্কা আলোর রেখা দেখা গেছে । বোঝা গেছে, 'অভিজ্ঞতা' জিনিসটা গণিতের সীমার বাইরে নয়, অর্থাৎ computable ।\n",
    "\n",
    "## Functional notation of empiricism\n",
    "\n",
    "মূল সমস্যা এটাই, কোন function $ f(x) $ এর মান নির্ণয় করতে হবে । যেমন একটা ছবি $ x $ দেখালে\n",
    "\n",
    "![](eight.png)\n",
    "\n",
    "$ f(x) => 8 $ হতে হবে । চেষ্টা করলে যেকোন সমস্যাকেই function হিসেবে লেখা যায় । যদি ডাক্তারবাবুর কথা ভাবি, তাহলে পেশেন্টের ঘুংরি কাশি (1), খকখকে কাশি (2) এবং শুকনো কাশি (3), এগুলো হল সম্ভাব্য $ x $ এর মান । তর্কের খাতিরে ধরে নি, ঘুংরি কাশি মানেই গলস্টোন আছে  (1) । তাহলে, function টাকে লেখা যাবে\n",
    "\n",
    "$$ f(x) => 1 ~~if x =1 \\\\\n",
    "=> 0 ~~if x > 1 $$\n",
    "\n",
    "সমস্যা যত জটিল হবে, তত function টাও জটিল হতে থাকবে । যদি ধরে নিই ব্লাড প্রেশার ($x_1$), ওজন ($x_2$) আর বয়স ($x_3$) দেখেই ডায়াবিটিস (2), হার্টের ব্যামো (1) না নীরোগ (0)  বোঝা যায়, তাহলে\n",
    "\n",
    "$$ f(x_1,x_2,x_3) => [0,1,2] $$\n",
    "\n",
    "সমস্ত function এর একটা ছবি আছে, তাই সমস্ত সমস্যাকেই একটা 'ছবি' হিসাবে কল্পনা করা যাক । যদি গলস্টোন আর হাঁচির সমস্যাটা নিয়ে ভাবি"
   ]
  },
  {
   "cell_type": "code",
   "execution_count": 6,
   "metadata": {},
   "outputs": [
    {
     "data": {
      "text/plain": [
       "Text(0,0.5,'Presence of gallstone')"
      ]
     },
     "execution_count": 6,
     "metadata": {},
     "output_type": "execute_result"
    },
    {
     "data": {
      "image/png": "[encoded data removed]",
      "text/plain": [
       "<matplotlib.figure.Figure at 0x7f747db74dd8>"
      ]
     },
     "metadata": {},
     "output_type": "display_data"
    }
   ],
   "source": [
    "import matplotlib.pyplot as plt, pylab\n",
    "import numpy as np\n",
    "%matplotlib inline\n",
    "\n",
    "plt.plot([1,2,3],[1,0,0])\n",
    "plt.xlabel('Type of cough')\n",
    "plt.ylabel('Presence of gallstone')"
   ]
  },
  {
   "cell_type": "markdown",
   "metadata": {},
   "source": [
    "এর থেকে জটিলতর সমস্যা, যেমন 'ব্লাড সুগার x হলে কোলেস্টেরল কত হবে', এক্ষেত্রে y এর মান হতে পারে যেকোন সংখ্যা\n",
    "\n",
    "$$ f(x_1,x_2,x_3...x_n) = [ N ] $$\n",
    "\n",
    "এর বাস্তব ছবিটা সোজাসাপ্টা নাও হতে পারে, কারণ সুগার আর কোলেস্টেরলের সম্পর্কটাও বেশ জটিল"
   ]
  },
  {
   "cell_type": "code",
   "execution_count": 7,
   "metadata": {},
   "outputs": [
    {
     "data": {
      "text/plain": [
       "Text(0,0.5,'Cholesterol')"
      ]
     },
     "execution_count": 7,
     "metadata": {},
     "output_type": "execute_result"
    },
    {
     "data": {
      "image/png": "[encoded data removed]",
      "text/plain": [
       "<matplotlib.figure.Figure at 0x7f747db74ac8>"
      ]
     },
     "metadata": {},
     "output_type": "display_data"
    }
   ],
   "source": [
    "x = np.arange(100,200)\n",
    "y = (x-130)**3/1000 + (x-110)*(3/2)*0.4 - 0.67 * (x-150)**2/20+ 0.32*(x-141)/10 + 240\n",
    "plt.plot(x,y)\n",
    "plt.xlabel('Sugar')\n",
    "plt.ylabel('Cholesterol')"
   ]
  },
  {
   "cell_type": "markdown",
   "metadata": {},
   "source": [
    "তাহলে এজাতীয় function (বা এর চেয়েও জটিল কিছু), যা ঠিক সহজ ফর্মুলায় আসেনা, মেশিনকে শেখানো যায় কি? প্রসঙ্গতঃ বলে রাখি, এজাতীয় ট্যারাবাঁকা function এর মধ্যে দিয়ে একটা সরলরেখা এঁকে (fitting) মোটামুটি কাজ চলে । কিন্তু সেই সমাধানটা 'প্রাকৃতিক' নয় । আমি যখন রাস্তা ক্রস করি তখন কোনটা অটো আর কোনটা টোটো সেটা চিনতে আমি নিশ্চয়ই খাতা পেন্সিল নিয়ে সরলরেখা আঁকতে বসিনা । অতএব, এই সমস্যার 'প্রাকৃতিক' সমাধান একটা আছে। \n",
    "\n",
    "## Fourier transform\n",
    "\n",
    "গোদা কথায়, ফুরিয়ারের প্রতিপাদ্য ছিল - **যেকোন পর্যাবৃত্ত (periodic) function একাধিক sin(x) এর সমন্বয়** । [উদাহরণ](http://localhost/personal/code/wave_sum/wave_sum.html) । যেকোন বলতে _যেকোন_, এমনকি এই ছবিটাও অনেকগুলো sin(x) function এর যোগফল হিসেবে আঁকা যায়। \n",
    "\n",
    "![](wave_sum.png)\n",
    "\n",
    "ফুরিয়ার নানা কঠিন কঠিন অঙ্ক করে একথাটা প্রমাণ করেন । এবং একটা ছবির ভিতর কি কি sine wave লুকিয়ে আছে, সেটা বার করার একটা উপায়ও বাতলে দেন । সহজ কথায়, যদি একটা sin wave এর কম্পাঙ্ক হয় 3\n",
    "\n",
    "![](sine_wave_3.png)\n",
    "\n",
    "তাহলে এই গোটা ছবিটাকে নিয়ে একটা বৃত্তের চারপাশে প্যাঁচাতে হবে, এমন করে যাতে f(x) = প্রতি মুহূর্তে বৃত্তের কেন্দ্র থেকে দূরত্ব হয়। কত তাড়াতাড়ি বা কত ধীরে ধীরে  প্যাঁচাবো সেটা আমার ওপর; যদি 1 cycles/ second হিসেবে প্যাঁচাই তবে\n",
    "\n",
    "![](fourier_1.png)\n",
    "\n",
    "আবার যদি একটু তাড়াতাড়ি, অর্থাৎ 2 cycles/ second হিসেবে প্যঁচাই\n",
    "\n",
    "![](fourier_2.png)\n",
    "\n",
    "এখন যদি মূল sine wave এর যেটা কম্পাঙ্ক ছিল, ঠিক ততটা, অর্থাৎ 3 cycles/second হিসেবে প্যাঁচাই\n",
    "\n",
    "![](fourier_3.png)\n",
    "\n",
    "এবার ছবিটার প্রতিসাম্য খানিকটা নষ্ট হয়েছে, এবং এর ভরকেন্দ্রটাও বেশ খানিকটা উপরে সরে গেছে (কেন?) । এখন যদি একটা ছবি আঁকি, প্যাঁচানোর দ্রুতি (Hertz) বনাম ভরকেন্দ্রের সরণ, তাহলে স্পষ্ট, যে মূল তরঙ্গের কম্পাঙ্ক ছিল 3\n",
    "\n",
    "![](fourier_transform.png)\n",
    "\n",
    "এই একই পদ্ধতি মিশ্র তরঙ্গের ক্ষেত্রেও খাতে, অর্থাৎ\n",
    "\n",
    "$$ f(x) = sin(2\\pi10x) + \\frac {4} {5} cos(2\\pi25x) + sin(2\\pi55x + \\frac {3}{2} \\pi) $$\n",
    "\n",
    "![](combo_wave.png)\n",
    "\n",
    "এর Fourier transform\n",
    "\n",
    "![](combo_fourier.png)\n",
    "\n",
    "লক্ষ্মণীয় যে মূল তরঙ্গের পর্যায় (period) বা বিস্তার (amplitude) যাই হোক না কেন, কিছু আসে যায় না । অর্থাৎ _সমস্ত ছবির মধ্যেই তার মুল তরঙ্গ গুলো লুকিয়ে রয়েছে_ ।"
   ]
  },
  {
   "cell_type": "markdown",
   "metadata": {},
   "source": [
    "## তাহলে যেসব function পর্যাবৃত্ত নয় (অর্থাৎ সিংহভাগ) তাদের কি হবে?\n",
    "\n",
    "হুম । sin(x) আসলে হল $ e^x $ এর function । তাহলে $ e^x $ দিয়ে কি সমস্ত function (যারা পর্যাবৃত্ত এবং পর্যাবৃত্ত নয়) তাদের আঁকা যায় ? যদি $ e^x $ এর ছবি আঁকি"
   ]
  },
  {
   "cell_type": "code",
   "execution_count": 9,
   "metadata": {},
   "outputs": [
    {
     "data": {
      "text/plain": [
       "[<matplotlib.lines.Line2D at 0x7f7477f17400>]"
      ]
     },
     "execution_count": 9,
     "metadata": {},
     "output_type": "execute_result"
    },
    {
     "data": {
      "image/png": "[encoded data removed]",
      "text/plain": [
       "<matplotlib.figure.Figure at 0x7f747d9d4780>"
      ]
     },
     "metadata": {},
     "output_type": "display_data"
    }
   ],
   "source": [
    "x = np.arange(-10,10,0.1)\n",
    "plt.plot(x,np.exp(x))"
   ]
  },
  {
   "cell_type": "markdown",
   "metadata": {},
   "source": [
    "হলনা, function টা একই ভাবে বেড়ে চলেছে, একে দিয়ে অন্য কোন function এর ওঠানামা বোঝানো সম্ভব না । আচ্ছা যদি এটাকে ভাগ করে দিই, অর্থাৎ এমন একটা function\n",
    "\n",
    "$$ \\sigma(x) = \\frac {e^x}{1 + e^x} $$"
   ]
  },
  {
   "cell_type": "code",
   "execution_count": 5,
   "metadata": {},
   "outputs": [
    {
     "data": {
      "text/plain": [
       "[<matplotlib.lines.Line2D at 0x7fc0e2752240>]"
      ]
     },
     "execution_count": 5,
     "metadata": {},
     "output_type": "execute_result"
    },
    {
     "data": {
      "image/png": "[encoded data removed]",
      "text/plain": [
       "<matplotlib.figure.Figure at 0x7fc0e27ed9b0>"
      ]
     },
     "metadata": {},
     "output_type": "display_data"
    }
   ],
   "source": [
    "def sigma(x):\n",
    "    return np.exp(x) / (1 + np.exp(x))\n",
    "plt.plot(x,sigma(x))"
   ]
  },
  {
   "cell_type": "markdown",
   "metadata": {},
   "source": [
    "এবার ছবিটাকে ইচ্ছেমত বাঁকাতে হবে, অর্থাৎ যদি এখাবে লিখি\n",
    "\n",
    "$$ f(x) = \\sigma(ax + b) $$\n",
    "\n",
    "a = 3 এবং b = -2 লিখলে"
   ]
  },
  {
   "cell_type": "code",
   "execution_count": null,
   "metadata": {},
   "outputs": [],
   "source": [
    "import matplotlib.pyplot as plt\n",
    "import numpy as np\n",
    "from ipywidgets import interact\n",
    "from ipywidgets.widgets import IntSlider, Dropdown\n",
    "x = np.arange(-10,10,0.1)\n",
    "%matplotlib inline\n",
    "\n",
    "def sigma(x):\n",
    "    return np.exp(x) / (np.exp(x) + 1)\n",
    "\n",
    "def f(a,b):\n",
    "    plt.plot(x,sigma(a*x+ b))\n",
    "\n",
    "interact(f,a=IntSlider(0,0,100,1),b=IntSlider(0,-50,50,1))\n",
    "\n",
    "#DOUBLE CLICK HERE; PRESS CONTROL+ENTER"
   ]
  },
  {
   "cell_type": "markdown",
   "metadata": {},
   "source": [
    "এবার অঙ্ক করে প্রমাণ করা যাবে, যে এই function এর নানাবিধ সমন্বয় করে সমস্তরকম function আকা যায় । [উদাহরণ](http://cmacus.000webhostapp.com/code/neural_nets/nn.html)"
   ]
  }
 ],
 "metadata": {
  "kernelspec": {
   "display_name": "Python 3",
   "language": "python",
   "name": "python3"
  },
  "language_info": {
   "codemirror_mode": {
    "name": "ipython",
    "version": 3
   },
   "file_extension": ".py",
   "mimetype": "text/x-python",
   "name": "python",
   "nbconvert_exporter": "python",
   "pygments_lexer": "ipython3",
   "version": "3.6.3"
  }
 },
 "nbformat": 4,
 "nbformat_minor": 2
}
