{
 "cells": [
  {
   "cell_type": "markdown",
   "metadata": {},
   "source": [
    "পটাশিয়াম এর সাম্য বিভব\n",
    "\n",
    "$$ E_eq K = \\frac {RT} {zF} ln \\frac {[K^+]out} {[K^+]in} $$"
   ]
  },
  {
   "cell_type": "code",
   "execution_count": 87,
   "metadata": {},
   "outputs": [
    {
     "data": {
      "application/vnd.jupyter.widget-view+json": {
       "model_id": "2746820355214de886e1b635d1225438",
       "version_major": 2,
       "version_minor": 0
      },
      "text/html": [
       "<p>Failed to display Jupyter Widget of type <code>interactive</code>.</p>\n",
       "<p>\n",
       "  If you're reading this message in the Jupyter Notebook or JupyterLab Notebook, it may mean\n",
       "  that the widgets JavaScript is still loading. If this message persists, it\n",
       "  likely means that the widgets JavaScript library is either not installed or\n",
       "  not enabled. See the <a href=\"https://ipywidgets.readthedocs.io/en/stable/user_install.html\">Jupyter\n",
       "  Widgets Documentation</a> for setup instructions.\n",
       "</p>\n",
       "<p>\n",
       "  If you're reading this message in another frontend (for example, a static\n",
       "  rendering on GitHub or <a href=\"https://nbviewer.jupyter.org/\">NBViewer</a>),\n",
       "  it may mean that your frontend doesn't currently support widgets.\n",
       "</p>\n"
      ],
      "text/plain": [
       "interactive(children=(IntSlider(value=5, description='k_out', max=200, min=1), IntSlider(value=140, description='k_in', max=200, min=1, step=10), Output()), _dom_classes=('widget-interact',))"
      ]
     },
     "metadata": {},
     "output_type": "display_data"
    },
    {
     "data": {
      "text/plain": [
       "<function __main__.plot_eq_k>"
      ]
     },
     "execution_count": 87,
     "metadata": {},
     "output_type": "execute_result"
    }
   ],
   "source": [
    "import matplotlib.pyplot as plt, matplotlib\n",
    "import numpy as np\n",
    "from ipywidgets import interact, IntSlider\n",
    "%matplotlib inline\n",
    "matplotlib.rcParams['figure.figsize'] = 15,5\n",
    "\n",
    "t = np.linspace(1,5,5)\n",
    "x = np.linspace(-50,50)\n",
    "#Equilibrium potential of potassium\n",
    "def plot_eq_k(k_out,k_in):\n",
    "    e_eq_k = 61.54 * np.log10(k_out/ k_in)*t/t\n",
    "    plt.subplot(121)\n",
    "    plt.plot(t,e_eq_k,label='Equilibrium potential in mV of potassium')\n",
    "    plt.ylabel('mV')\n",
    "    plt.xlabel('t')\n",
    "    plt.ylim(-150,50)\n",
    "    plt.legend()\n",
    "    \n",
    "    plt.subplot(122)\n",
    "    k_in_ions = []\n",
    "    for i in range(k_in):\n",
    "        k_in_ions.append([-np.random.randint(50),np.random.randint(100)])\n",
    "    k_in_ions = np.asarray(k_in_ions)\n",
    "    plt.scatter(k_in_ions[:,0],k_in_ions[:,1],label='K_in')\n",
    "    k_out_ions = []\n",
    "    for i in range(k_out):\n",
    "        k_out_ions.append([np.random.randint(50),np.random.randint(100)])\n",
    "    k_out_ions = np.asarray(k_out_ions)\n",
    "    plt.scatter(k_out_ions[:,0],k_out_ions[:,1],label='K_out')\n",
    "    plt.xlim(-50,50)\n",
    "    plt.vlines(0,0,100)\n",
    "    plt.legend()\n",
    "interact(plot_eq_k,k_out=IntSlider(5,1,200),k_in=IntSlider(140,1,200,10))\n",
    "\n",
    "# DOUBLE CLICK HERE AND PRESS CTRL + ENTER"
   ]
  },
  {
   "cell_type": "markdown",
   "metadata": {},
   "source": [
    "কোষ পর্দার স্থিতাবস্থায় বিভব প্রভেদ\n",
    "\n",
    "$$ E_m = \\frac {RT} {F} ln \\frac {P_K [K^+]_out + P_Na [Na^+]out + P_Cl [Cl^-]in } {P_K [K^+]_in + P_Na [Na^+]in + P_Cl [Cl^-]out } $$"
   ]
  }
 ],
 "metadata": {
  "kernelspec": {
   "display_name": "Python 3",
   "language": "python",
   "name": "python3"
  },
  "language_info": {
   "codemirror_mode": {
    "name": "ipython",
    "version": 3
   },
   "file_extension": ".py",
   "mimetype": "text/x-python",
   "name": "python",
   "nbconvert_exporter": "python",
   "pygments_lexer": "ipython3",
   "version": "3.6.3"
  }
 },
 "nbformat": 4,
 "nbformat_minor": 2
}
